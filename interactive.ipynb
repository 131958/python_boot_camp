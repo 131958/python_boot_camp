{
 "cells": [
  {
   "cell_type": "code",
   "execution_count": null,
   "id": "c8e5e975",
   "metadata": {},
   "outputs": [
    {
     "name": "stdout",
     "output_type": "stream",
     "text": [
      "Hi Outskillers\n",
      "Welcome to the Python course\n"
     ]
    }
   ],
   "source": [
    "print('Hi Outskillers')\n"
   ]
  },
  {
   "cell_type": "code",
   "execution_count": null,
   "id": "9c38a993",
   "metadata": {},
   "outputs": [],
   "source": [
    "print('Welcome to the Python course')"
   ]
  },
  {
   "cell_type": "code",
   "execution_count": null,
   "id": "e9bf58c4",
   "metadata": {},
   "outputs": [],
   "source": []
  }
 ],
 "metadata": {
  "kernelspec": {
   "display_name": "Python 3",
   "language": "python",
   "name": "python3"
  },
  "language_info": {
   "codemirror_mode": {
    "name": "ipython",
    "version": 3
   },
   "file_extension": ".py",
   "mimetype": "text/x-python",
   "name": "python",
   "nbconvert_exporter": "python",
   "pygments_lexer": "ipython3",
   "version": "3.13.3"
  }
 },
 "nbformat": 4,
 "nbformat_minor": 5
}
